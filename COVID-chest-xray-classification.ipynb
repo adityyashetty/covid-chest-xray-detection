{
 "cells": [
  {
   "cell_type": "code",
   "execution_count": 3,
   "id": "f03d3c60-d712-42e1-bdb8-1692b05f24d7",
   "metadata": {},
   "outputs": [],
   "source": [
    "# Import necessary libraries\n",
    "import numpy as np\n",
    "import os\n",
    "import matplotlib.pyplot as plt\n",
    "from tensorflow.keras.preprocessing.image import ImageDataGenerator\n",
    "from tensorflow.keras.utils import to_categorical\n",
    "from sklearn.model_selection import train_test_split\n",
    "from tensorflow.keras.models import Sequential\n",
    "from tensorflow.keras.layers import Conv2D, MaxPooling2D, Flatten, Dense, Dropout, Input  # Ensure Input is imported\n",
    "from tensorflow.keras.optimizers import Adam\n",
    "from PIL import Image"
   ]
  },
  {
   "cell_type": "code",
   "execution_count": 5,
   "id": "5ab9c18d-3f7c-498e-8560-a3232b7aab17",
   "metadata": {},
   "outputs": [],
   "source": [
    "# Set image dimensions\n",
    "img_height, img_width = 150, 150"
   ]
  },
  {
   "cell_type": "code",
   "execution_count": 7,
   "id": "7e5d1b44-07fb-4889-a32c-36f3a166a424",
   "metadata": {},
   "outputs": [],
   "source": [
    "# Function to load and preprocess images\n",
    "def load_images_from_folder(folder):\n",
    "    images = []\n",
    "    for filename in os.listdir(folder):\n",
    "        img_path = os.path.join(folder, filename)\n",
    "        img = Image.open(img_path).convert('L')  # Convert to grayscale\n",
    "        img = img.resize((img_width, img_height))\n",
    "        images.append(np.array(img))\n",
    "    return images"
   ]
  },
  {
   "cell_type": "code",
   "execution_count": 9,
   "id": "d6bd85ee-8c73-4b9e-a509-d88d537fddad",
   "metadata": {},
   "outputs": [],
   "source": [
    "# Load datasets\n",
    "covid_path = 'COVID-19_Radiography_Dataset/COVID/images'\n",
    "normal_path = 'COVID-19_Radiography_Dataset/Normal/images'"
   ]
  },
  {
   "cell_type": "code",
   "execution_count": 11,
   "id": "d12ed1d3-7a63-4665-ac26-054726a352ad",
   "metadata": {},
   "outputs": [],
   "source": [
    "covid_images = load_images_from_folder(covid_path)\n",
    "normal_images = load_images_from_folder(normal_path)"
   ]
  },
  {
   "cell_type": "code",
   "execution_count": 12,
   "id": "fb5169ed-44fc-4e72-b57d-bb8c12eb8287",
   "metadata": {},
   "outputs": [],
   "source": [
    "# Create labels\n",
    "covid_labels = [1] * len(covid_images)  # 1 for COVID\n",
    "normal_labels = [0] * len(normal_images)  # 0 for Normal"
   ]
  },
  {
   "cell_type": "code",
   "execution_count": 13,
   "id": "765ba84b-620f-49ff-9767-b0ae15535003",
   "metadata": {},
   "outputs": [],
   "source": [
    "# Combine datasets\n",
    "all_images = np.array(covid_images + normal_images) / 255.0\n",
    "all_labels = np.array(covid_labels + normal_labels)"
   ]
  },
  {
   "cell_type": "code",
   "execution_count": 17,
   "id": "f0d6fba0-95b4-4c2a-849b-e3cf8ca0c10f",
   "metadata": {},
   "outputs": [
    {
     "name": "stdout",
     "output_type": "stream",
     "text": [
      "Shape of all images: (13808, 150, 150, 1)\n"
     ]
    }
   ],
   "source": [
    "# Ensure data has 4 dimensions (samples, height, width, channels)\n",
    "all_images = np.expand_dims(all_images, axis=-1)\n",
    "\n",
    "# Check the shape of all_images\n",
    "print(f\"Shape of all images: {all_images.shape}\")\n",
    "\n",
    "all_labels = np.array(covid_labels + normal_labels)"
   ]
  },
  {
   "cell_type": "code",
   "execution_count": 19,
   "id": "d736d691-bdb3-43db-8272-69e9d878d181",
   "metadata": {},
   "outputs": [],
   "source": [
    "# Split into training and test sets\n",
    "X_train, X_test, y_train, y_test = train_test_split(\n",
    "    all_images, all_labels, test_size=0.2, random_state=42\n",
    ")"
   ]
  },
  {
   "cell_type": "code",
   "execution_count": 21,
   "id": "c321d23c-e28b-43ab-81c5-7f85551ca4e2",
   "metadata": {},
   "outputs": [],
   "source": [
    "# Convert labels to categorical\n",
    "y_train = to_categorical(y_train, 2)\n",
    "y_test = to_categorical(y_test, 2)"
   ]
  },
  {
   "cell_type": "code",
   "execution_count": 23,
   "id": "8e21e2c2-f839-43b8-b7e9-961be6d37913",
   "metadata": {},
   "outputs": [],
   "source": [
    "# Define a simple CNN model\n",
    "model = Sequential([\n",
    "    Input(shape=(img_height, img_width, 1)),  # Use Input layer\n",
    "    Conv2D(32, (3, 3), activation='relu'),\n",
    "    MaxPooling2D(pool_size=(2, 2)),\n",
    "    Conv2D(64, (3, 3), activation='relu'),\n",
    "    MaxPooling2D(pool_size=(2, 2)),\n",
    "    Conv2D(128, (3, 3), activation='relu'),\n",
    "    MaxPooling2D(pool_size=(2, 2)),\n",
    "    Flatten(),\n",
    "    Dense(64, activation='relu'),\n",
    "    Dropout(0.5),\n",
    "    Dense(2, activation='softmax')\n",
    "])"
   ]
  },
  {
   "cell_type": "code",
   "execution_count": 25,
   "id": "fd4c947c-4a90-403d-962c-8bac96fec102",
   "metadata": {},
   "outputs": [],
   "source": [
    "# Compile the model\n",
    "model.compile(optimizer=Adam(learning_rate=0.0001),\n",
    "              loss='categorical_crossentropy',\n",
    "              metrics=['accuracy'])\n"
   ]
  },
  {
   "cell_type": "code",
   "execution_count": 27,
   "id": "1f961bdb-21a4-4002-94a7-13e54ea21d65",
   "metadata": {},
   "outputs": [],
   "source": [
    "# Data augmentation\n",
    "train_datagen = ImageDataGenerator(\n",
    "    rotation_range=15,\n",
    "    width_shift_range=0.1,\n",
    "    height_shift_range=0.1,\n",
    "    horizontal_flip=True\n",
    ")"
   ]
  },
  {
   "cell_type": "code",
   "execution_count": 29,
   "id": "257f3034-30e8-4715-8776-22b3d87a64d4",
   "metadata": {
    "scrolled": true
   },
   "outputs": [
    {
     "name": "stdout",
     "output_type": "stream",
     "text": [
      "Epoch 1/10\n"
     ]
    },
    {
     "name": "stderr",
     "output_type": "stream",
     "text": [
      "/home/aditya/anaconda3/lib/python3.12/site-packages/keras/src/trainers/data_adapters/py_dataset_adapter.py:121: UserWarning: Your `PyDataset` class should call `super().__init__(**kwargs)` in its constructor. `**kwargs` can include `workers`, `use_multiprocessing`, `max_queue_size`. Do not pass these arguments to `fit()`, as they will be ignored.\n",
      "  self._warn_if_super_not_called()\n"
     ]
    },
    {
     "name": "stdout",
     "output_type": "stream",
     "text": [
      "\u001b[1m346/346\u001b[0m \u001b[32m━━━━━━━━━━━━━━━━━━━━\u001b[0m\u001b[37m\u001b[0m \u001b[1m58s\u001b[0m 164ms/step - accuracy: 0.7392 - loss: 0.5605 - val_accuracy: 0.7350 - val_loss: 0.4721\n",
      "Epoch 2/10\n",
      "\u001b[1m346/346\u001b[0m \u001b[32m━━━━━━━━━━━━━━━━━━━━\u001b[0m\u001b[37m\u001b[0m \u001b[1m59s\u001b[0m 171ms/step - accuracy: 0.7512 - loss: 0.4882 - val_accuracy: 0.7364 - val_loss: 0.5138\n",
      "Epoch 3/10\n",
      "\u001b[1m346/346\u001b[0m \u001b[32m━━━━━━━━━━━━━━━━━━━━\u001b[0m\u001b[37m\u001b[0m \u001b[1m60s\u001b[0m 172ms/step - accuracy: 0.7618 - loss: 0.4774 - val_accuracy: 0.8193 - val_loss: 0.4094\n",
      "Epoch 4/10\n",
      "\u001b[1m346/346\u001b[0m \u001b[32m━━━━━━━━━━━━━━━━━━━━\u001b[0m\u001b[37m\u001b[0m \u001b[1m59s\u001b[0m 171ms/step - accuracy: 0.7777 - loss: 0.4593 - val_accuracy: 0.8161 - val_loss: 0.3838\n",
      "Epoch 5/10\n",
      "\u001b[1m346/346\u001b[0m \u001b[32m━━━━━━━━━━━━━━━━━━━━\u001b[0m\u001b[37m\u001b[0m \u001b[1m60s\u001b[0m 173ms/step - accuracy: 0.7874 - loss: 0.4331 - val_accuracy: 0.8030 - val_loss: 0.3858\n",
      "Epoch 6/10\n",
      "\u001b[1m346/346\u001b[0m \u001b[32m━━━━━━━━━━━━━━━━━━━━\u001b[0m\u001b[37m\u001b[0m \u001b[1m61s\u001b[0m 176ms/step - accuracy: 0.7903 - loss: 0.4250 - val_accuracy: 0.8157 - val_loss: 0.3603\n",
      "Epoch 7/10\n",
      "\u001b[1m346/346\u001b[0m \u001b[32m━━━━━━━━━━━━━━━━━━━━\u001b[0m\u001b[37m\u001b[0m \u001b[1m62s\u001b[0m 177ms/step - accuracy: 0.8137 - loss: 0.4023 - val_accuracy: 0.8476 - val_loss: 0.3265\n",
      "Epoch 8/10\n",
      "\u001b[1m346/346\u001b[0m \u001b[32m━━━━━━━━━━━━━━━━━━━━\u001b[0m\u001b[37m\u001b[0m \u001b[1m62s\u001b[0m 178ms/step - accuracy: 0.8253 - loss: 0.3808 - val_accuracy: 0.8541 - val_loss: 0.3226\n",
      "Epoch 9/10\n",
      "\u001b[1m346/346\u001b[0m \u001b[32m━━━━━━━━━━━━━━━━━━━━\u001b[0m\u001b[37m\u001b[0m \u001b[1m63s\u001b[0m 182ms/step - accuracy: 0.8322 - loss: 0.3750 - val_accuracy: 0.8682 - val_loss: 0.2988\n",
      "Epoch 10/10\n",
      "\u001b[1m346/346\u001b[0m \u001b[32m━━━━━━━━━━━━━━━━━━━━\u001b[0m\u001b[37m\u001b[0m \u001b[1m63s\u001b[0m 180ms/step - accuracy: 0.8397 - loss: 0.3621 - val_accuracy: 0.9033 - val_loss: 0.2699\n"
     ]
    }
   ],
   "source": [
    "# Train the model\n",
    "history = model.fit(\n",
    "    train_datagen.flow(X_train, y_train, batch_size=32),\n",
    "    validation_data=(X_test, y_test),\n",
    "    epochs=10,\n",
    "    verbose=1\n",
    ")"
   ]
  },
  {
   "cell_type": "code",
   "execution_count": 31,
   "id": "d6c39e26-0eab-4a70-8b75-f4776bc02564",
   "metadata": {},
   "outputs": [
    {
     "name": "stdout",
     "output_type": "stream",
     "text": [
      "\u001b[1m87/87\u001b[0m \u001b[32m━━━━━━━━━━━━━━━━━━━━\u001b[0m\u001b[37m\u001b[0m \u001b[1m4s\u001b[0m 50ms/step - accuracy: 0.9038 - loss: 0.2745\n",
      "Test Accuracy: 90.33%\n"
     ]
    }
   ],
   "source": [
    "# Evaluate the model\n",
    "loss, accuracy = model.evaluate(X_test, y_test)\n",
    "print(f\"Test Accuracy: {accuracy * 100:.2f}%\")"
   ]
  },
  {
   "cell_type": "code",
   "execution_count": 33,
   "id": "a031c3cd-659b-4dcf-8b27-5dfe22e8d81a",
   "metadata": {},
   "outputs": [
    {
     "data": {
      "image/png": "[encoded data removed]",
      "text/plain": [
       "<Figure size 1200x400 with 2 Axes>"
      ]
     },
     "metadata": {},
     "output_type": "display_data"
    }
   ],
   "source": [
    "# Plot accuracy and loss\n",
    "plt.figure(figsize=(12, 4))\n",
    "plt.subplot(1, 2, 1)\n",
    "plt.plot(history.history['accuracy'], label='Train Accuracy')\n",
    "plt.plot(history.history['val_accuracy'], label='Validation Accuracy')\n",
    "plt.xlabel('Epoch')\n",
    "plt.ylabel('Accuracy')\n",
    "plt.legend()\n",
    "\n",
    "plt.subplot(1, 2, 2)\n",
    "plt.plot(history.history['loss'], label='Train Loss')\n",
    "plt.plot(history.history['val_loss'], label='Validation Loss')\n",
    "plt.xlabel('Epoch')\n",
    "plt.ylabel('Loss')\n",
    "plt.legend()\n",
    "\n",
    "plt.show()"
   ]
  },
  {
   "cell_type": "code",
   "execution_count": 37,
   "id": "34408d41-cce7-460e-bc9b-d4b307257900",
   "metadata": {},
   "outputs": [],
   "source": [
    "# Function to predict COVID or Normal from an X-ray image\n",
    "def predict_covid(image_path):\n",
    "    img = Image.open(image_path).convert('L')  # Convert to grayscale\n",
    "    img = img.resize((img_width, img_height))\n",
    "    img_array = np.array(img) / 255.0\n",
    "    img_array = np.expand_dims(img_array, axis=-1)  # Adjust for grayscale\n",
    "\n",
    "    img_array = np.expand_dims(img_array, axis=0)  # Add batch dimension\n",
    "\n",
    "    prediction = model.predict(img_array)\n",
    "    pred_class = np.argmax(prediction, axis=1)\n",
    "\n",
    "    return \"COVID Detected\" if pred_class[0] == 1 else \"Normal\""
   ]
  },
  {
   "cell_type": "code",
   "execution_count": 45,
   "id": "98f86ff7-2729-4d40-b4f7-10deb2d089c9",
   "metadata": {},
   "outputs": [
    {
     "name": "stdout",
     "output_type": "stream",
     "text": [
      "\u001b[1m1/1\u001b[0m \u001b[32m━━━━━━━━━━━━━━━━━━━━\u001b[0m\u001b[37m\u001b[0m \u001b[1m0s\u001b[0m 24ms/step\n",
      "The given X-ray is classified as: Normal\n"
     ]
    }
   ],
   "source": [
    "# Example prediction\n",
    "image_path = '76052f7902246ff862f52f5d3cd9cd_big_gallery.jpg'  \n",
    "result = predict_covid(image_path)\n",
    "print(f\"The given X-ray is classified as: {result}\")"
   ]
  },
  {
   "cell_type": "code",
   "execution_count": null,
   "id": "63a9a3e5-40a7-494e-95ef-f5610894f7ef",
   "metadata": {},
   "outputs": [],
   "source": []
  }
 ],
 "metadata": {
  "kernelspec": {
   "display_name": "Python 3 (ipykernel)",
   "language": "python",
   "name": "python3"
  },
  "language_info": {
   "codemirror_mode": {
    "name": "ipython",
    "version": 3
   },
   "file_extension": ".py",
   "mimetype": "text/x-python",
   "name": "python",
   "nbconvert_exporter": "python",
   "pygments_lexer": "ipython3",
   "version": "3.12.4"
  }
 },
 "nbformat": 4,
 "nbformat_minor": 5
}
